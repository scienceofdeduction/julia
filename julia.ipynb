{
  "nbformat": 4,
  "nbformat_minor": 0,
  "metadata": {
    "colab": {
      "name": "julia.ipynb",
      "provenance": [],
      "authorship_tag": "ABX9TyMEnhKxMKC7DKY3ibNZhsKt",
      "include_colab_link": true
    },
    "kernelspec": {
      "name": "Julia",
      "language": "julia",
      "display_name": "Julia Rabbit"
    },
    "language_info": {
      "file_extension": ".jl",
      "mimetype": "application/julia",
      "name": "julia",
      "version": "1.5.0"
    },
    "accelerator": "GPU"
  },
  "cells": [
    {
      "cell_type": "markdown",
      "metadata": {
        "id": "view-in-github",
        "colab_type": "text"
      },
      "source": [
        "<a href=\"https://colab.research.google.com/github/scienceofdeduction/pub/blob/master/julia.ipynb\" target=\"_parent\"><img src=\"https://colab.research.google.com/assets/colab-badge.svg\" alt=\"Open In Colab\"/></a>"
      ]
    },
    {
      "cell_type": "code",
      "metadata": {
        "id": "A1T6ioXIct0X",
        "colab_type": "code",
        "colab": {}
      },
      "source": [
        "%%shell\n",
        "if ! command -v julia 3>&1 > /dev/null\n",
        "then\n",
        "    wget 'https://julialang-s3.julialang.org/bin/linux/x64/1.5/julia-1.5.0-linux-x86_64.tar.gz' \\\n",
        "        -O /tmp/julia.tar.gz\n",
        "    tar -x -f /tmp/julia.tar.gz -C /usr/local --strip-components 1\n",
        "    rm /tmp/julia.tar.gz\n",
        "fi"
      ],
      "execution_count": null,
      "outputs": []
    },
    {
      "cell_type": "code",
      "metadata": {
        "id": "j9RAKNk7dkF-",
        "colab_type": "code",
        "colab": {
          "base_uri": "https://localhost:8080/",
          "height": 34
        },
        "outputId": "4b216276-7aab-492f-8d6b-db974bed113d"
      },
      "source": [
        "%%sh\n",
        "which julia"
      ],
      "execution_count": 2,
      "outputs": [
        {
          "output_type": "stream",
          "text": [
            "/usr/local/bin/julia\n"
          ],
          "name": "stdout"
        }
      ]
    },
    {
      "cell_type": "code",
      "metadata": {
        "id": "eUx28SFAdsj4",
        "colab_type": "code",
        "colab": {
          "base_uri": "https://localhost:8080/",
          "height": 901
        },
        "outputId": "6b569f74-5604-486a-cedc-48041fec9531"
      },
      "source": [
        "%%sh\n",
        "julia -e 'using Pkg; Pkg.add(\"IJulia\"); Pkg.precompile();'"
      ],
      "execution_count": 4,
      "outputs": [
        {
          "output_type": "stream",
          "text": [
            " Installing known registries into `~/.julia`\n",
            "#=#=#                                                                         \r\r#######################                                                   32.0%\r######################################################################## 100.0%\n",
            "      Added registry `General` to `~/.julia/registries/General`\n",
            "  Resolving package versions...\n",
            "  Installed ZeroMQ_jll ────── v4.3.2+4\n",
            "  Installed IJulia ────────── v1.21.2\n",
            "  Installed SoftGlobalScope ─ v1.1.0\n",
            "  Installed MbedTLS_jll ───── v2.16.6+1\n",
            "  Installed Conda ─────────── v1.4.1\n",
            "  Installed VersionParsing ── v1.2.0\n",
            "  Installed ZMQ ───────────── v1.2.1\n",
            "  Installed JSON ──────────── v0.21.0\n",
            "  Installed MbedTLS ───────── v1.0.2\n",
            "  Installed Parsers ───────── v1.0.10\n",
            "#=#=#                                                                         \r\r######################################################################## 100.0%\n",
            "#=#=#                                                                         \r\r###                                                                        4.5%\r######################################################################## 100.0%\n",
            "Updating `~/.julia/environments/v1.5/Project.toml`\n",
            "  [7073ff75] + IJulia v1.21.2\n",
            "Updating `~/.julia/environments/v1.5/Manifest.toml`\n",
            "  [8f4d0f93] + Conda v1.4.1\n",
            "  [7073ff75] + IJulia v1.21.2\n",
            "  [682c06a0] + JSON v0.21.0\n",
            "  [739be429] + MbedTLS v1.0.2\n",
            "  [c8ffd9c3] + MbedTLS_jll v2.16.6+1\n",
            "  [69de0a69] + Parsers v1.0.10\n",
            "  [b85f4697] + SoftGlobalScope v1.1.0\n",
            "  [81def892] + VersionParsing v1.2.0\n",
            "  [c2297ded] + ZMQ v1.2.1\n",
            "  [8f1865be] + ZeroMQ_jll v4.3.2+4\n",
            "  [2a0f44e3] + Base64\n",
            "  [ade2ca70] + Dates\n",
            "  [8ba89e20] + Distributed\n",
            "  [7b1f6079] + FileWatching\n",
            "  [b77e0a4c] + InteractiveUtils\n",
            "  [76f85450] + LibGit2\n",
            "  [8f399da3] + Libdl\n",
            "  [56ddb016] + Logging\n",
            "  [d6f4376e] + Markdown\n",
            "  [a63ad114] + Mmap\n",
            "  [44cfe95a] + Pkg\n",
            "  [de0858da] + Printf\n",
            "  [3fa0cd96] + REPL\n",
            "  [9a3f8284] + Random\n",
            "  [ea8e919c] + SHA\n",
            "  [9e88b42a] + Serialization\n",
            "  [6462fe0b] + Sockets\n",
            "  [8dfed614] + Test\n",
            "  [cf7118a7] + UUIDs\n",
            "  [4ec0a83e] + Unicode\n",
            "   Building Conda ─→ `~/.julia/packages/Conda/3rPhK/deps/build.log`\n",
            "   Building IJulia → `~/.julia/packages/IJulia/DrVMH/deps/build.log`\n",
            "Precompiling project...\n"
          ],
          "name": "stderr"
        }
      ]
    },
    {
      "cell_type": "markdown",
      "metadata": {
        "id": "g4FfCWESeVzi",
        "colab_type": "text"
      },
      "source": [
        "![julia colab][1]\n",
        "\n",
        "[1]: https://user-images.githubusercontent.com/19316036/90217362-0079f380-ddb6-11ea-84d4-5059a2bea538.png"
      ]
    },
    {
      "cell_type": "code",
      "metadata": {
        "id": "Fwb_jH2xdx9K",
        "colab_type": "code",
        "colab": {}
      },
      "source": [
        ""
      ],
      "execution_count": null,
      "outputs": []
    }
  ]
}