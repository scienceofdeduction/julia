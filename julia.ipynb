{
  "nbformat": 4,
  "nbformat_minor": 0,
  "metadata": {
    "colab": {
      "name": "julia.ipynb",
      "provenance": [],
      "authorship_tag": "ABX9TyMKz0gl1L55I/sF73woxbss",
      "include_colab_link": true
    },
    "kernelspec": {
      "name": "Julia",
      "language": "julia",
      "display_name": "Julia Rabbit"
    },
    "language_info": {
      "file_extension": ".jl",
      "mimetype": "application/julia",
      "name": "julia",
      "version": "1.5.0"
    },
    "accelerator": "GPU"
  },
  "cells": [
    {
      "cell_type": "markdown",
      "metadata": {
        "id": "view-in-github",
        "colab_type": "text"
      },
      "source": [
        "<a href=\"https://colab.research.google.com/github/scienceofdeduction/pub/blob/master/julia.ipynb\" target=\"_parent\"><img src=\"https://colab.research.google.com/assets/colab-badge.svg\" alt=\"Open In Colab\"/></a>"
      ]
    },
    {
      "cell_type": "code",
      "metadata": {
        "id": "A1T6ioXIct0X",
        "colab_type": "code",
        "colab": {}
      },
      "source": [
        "%%shell\n",
        "if ! command -v julia 3>&1 > /dev/null\n",
        "then\n",
        "    wget 'https://julialang-s3.julialang.org/bin/linux/x64/1.5/julia-1.5.0-linux-x86_64.tar.gz' \\\n",
        "        -O /tmp/julia.tar.gz\n",
        "    tar -x -f /tmp/julia.tar.gz -C /usr/local --strip-components 1\n",
        "    rm /tmp/julia.tar.gz\n",
        "    julia -e 'using Pkg; Pkg.add(\"IJulia\"); Pkg.precompile();'\n",
        "fi"
      ],
      "execution_count": null,
      "outputs": []
    },
    {
      "cell_type": "code",
      "metadata": {
        "id": "j9RAKNk7dkF-",
        "colab_type": "code",
        "colab": {}
      },
      "source": [
        "%%sh\n",
        "which julia"
      ],
      "execution_count": null,
      "outputs": []
    },
    {
      "cell_type": "markdown",
      "metadata": {
        "id": "g4FfCWESeVzi",
        "colab_type": "text"
      },
      "source": [
        "![julia colab][1]\n",
        "\n",
        "[1]: https://user-images.githubusercontent.com/19316036/90217362-0079f380-ddb6-11ea-84d4-5059a2bea538.png"
      ]
    },
    {
      "cell_type": "code",
      "metadata": {
        "id": "eUx28SFAdsj4",
        "colab_type": "code",
        "colab": {
          "base_uri": "https://localhost:8080/",
          "height": 129
        },
        "outputId": "93922be8-b7cd-4e7e-ed29-0ad12acc22bb"
      },
      "source": [
        "using Pkg"
      ],
      "execution_count": 23,
      "outputs": [
        {
          "output_type": "error",
          "ename": "SyntaxError",
          "evalue": "ignored",
          "traceback": [
            "\u001b[0;36m  File \u001b[0;32m\"<ipython-input-23-48efecd888be>\"\u001b[0;36m, line \u001b[0;32m1\u001b[0m\n\u001b[0;31m    using Pkg\u001b[0m\n\u001b[0m            ^\u001b[0m\n\u001b[0;31mSyntaxError\u001b[0m\u001b[0;31m:\u001b[0m invalid syntax\n"
          ]
        }
      ]
    },
    {
      "cell_type": "code",
      "metadata": {
        "id": "Fwb_jH2xdx9K",
        "colab_type": "code",
        "colab": {}
      },
      "source": [
        "%%sh\n",
        "julia -e 'using Pkg; Pkg.status();'"
      ],
      "execution_count": null,
      "outputs": []
    },
    {
      "cell_type": "code",
      "metadata": {
        "id": "FrC772TdgIp8",
        "colab_type": "code",
        "colab": {}
      },
      "source": [
        "%%sh \n",
        "julia -e 'using Pkg; Pkg.add(\"Flux\");'"
      ],
      "execution_count": null,
      "outputs": []
    },
    {
      "cell_type": "code",
      "metadata": {
        "id": "agduigyogfsY",
        "colab_type": "code",
        "colab": {}
      },
      "source": [
        "%load_ext rpy2.ipython"
      ],
      "execution_count": null,
      "outputs": []
    },
    {
      "cell_type": "code",
      "metadata": {
        "id": "QvbV21-4huHs",
        "colab_type": "code",
        "colab": {}
      },
      "source": [
        "%%R\n",
        "install.packages(\"JuliaConnectoR\")"
      ],
      "execution_count": null,
      "outputs": []
    },
    {
      "cell_type": "code",
      "metadata": {
        "id": "_W__rRm-hznL",
        "colab_type": "code",
        "colab": {}
      },
      "source": [
        "%%R\n",
        "require(JuliaConnectoR)"
      ],
      "execution_count": null,
      "outputs": []
    },
    {
      "cell_type": "code",
      "metadata": {
        "id": "Z4K8lOW5h3nt",
        "colab_type": "code",
        "colab": {}
      },
      "source": [
        "%%R\n",
        "flux <- juliaImport(\"Flux\")"
      ],
      "execution_count": null,
      "outputs": []
    },
    {
      "cell_type": "code",
      "metadata": {
        "id": "g5vLmbBJiAMk",
        "colab_type": "code",
        "colab": {}
      },
      "source": [
        "%%R\n",
        "\n",
        "m <- Flux$Chain(\n",
        "        Flux$Dense(4L, 12L, Flux$relu), \n",
        "        Flux$Dense(12L, 3L, Flux$softmax)\n",
        ")"
      ],
      "execution_count": null,
      "outputs": []
    },
    {
      "cell_type": "code",
      "metadata": {
        "id": "uLRB9BXaiQEG",
        "colab_type": "code",
        "colab": {}
      },
      "source": [
        "%%R\n",
        "\n",
        "mlp <- juliaEval('\n",
        "  using Flux\n",
        "  function mlp(x, y)\n",
        "    opt = ADAM(.01)\n",
        "    m = Chain(Dense(4, 12, relu), Dense(12, 3, softmax))\n",
        "    loss(x, y) = crossentropy(m(x), y)\n",
        "    # @epochs 10 train!(loss, params(m), [(x, y)], opt)\n",
        "\n",
        "  end \n",
        "')"
      ],
      "execution_count": null,
      "outputs": []
    },
    {
      "cell_type": "code",
      "metadata": {
        "id": "KrysN5HIjoso",
        "colab_type": "code",
        "colab": {}
      },
      "source": [
        ""
      ],
      "execution_count": null,
      "outputs": []
    }
  ]
}