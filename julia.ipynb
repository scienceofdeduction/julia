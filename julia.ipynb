{
  "nbformat": 4,
  "nbformat_minor": 0,
  "metadata": {
    "colab": {
      "name": "julia.ipynb",
      "provenance": [],
      "authorship_tag": "ABX9TyPSOKM9xzy/5QP+IRGZwCy5",
      "include_colab_link": true
    },
    "kernelspec": {
      "name": "Julia",
      "language": "julia",
      "display_name": "Julia Rabbit"
    },
    "language_info": {
      "file_extension": ".jl",
      "mimetype": "application/julia",
      "name": "julia",
      "version": "1.5.0"
    },
    "accelerator": "GPU"
  },
  "cells": [
    {
      "cell_type": "markdown",
      "metadata": {
        "id": "view-in-github",
        "colab_type": "text"
      },
      "source": [
        "<a href=\"https://colab.research.google.com/github/scienceofdeduction/pub/blob/master/julia.ipynb\" target=\"_parent\"><img src=\"https://colab.research.google.com/assets/colab-badge.svg\" alt=\"Open In Colab\"/></a>"
      ]
    },
    {
      "cell_type": "code",
      "metadata": {
        "id": "A1T6ioXIct0X",
        "colab_type": "code",
        "colab": {}
      },
      "source": [
        "%%shell\n",
        "if ! command -v julia 3>&1 > /dev/null\n",
        "then\n",
        "    wget 'https://julialang-s3.julialang.org/bin/linux/x64/1.5/julia-1.5.0-linux-x86_64.tar.gz' \\\n",
        "        -O /tmp/julia.tar.gz\n",
        "    tar -x -f /tmp/julia.tar.gz -C /usr/local --strip-components 1\n",
        "    rm /tmp/julia.tar.gz\n",
        "fi"
      ],
      "execution_count": null,
      "outputs": []
    },
    {
      "cell_type": "code",
      "metadata": {
        "id": "j9RAKNk7dkF-",
        "colab_type": "code",
        "colab": {
          "base_uri": "https://localhost:8080/",
          "height": 34
        },
        "outputId": "4b216276-7aab-492f-8d6b-db974bed113d"
      },
      "source": [
        "%%sh\n",
        "which julia"
      ],
      "execution_count": 2,
      "outputs": [
        {
          "output_type": "stream",
          "text": [
            "/usr/local/bin/julia\n"
          ],
          "name": "stdout"
        }
      ]
    },
    {
      "cell_type": "code",
      "metadata": {
        "id": "eUx28SFAdsj4",
        "colab_type": "code",
        "colab": {
          "base_uri": "https://localhost:8080/",
          "height": 901
        },
        "outputId": "6b569f74-5604-486a-cedc-48041fec9531"
      },
      "source": [
        "%%sh\n",
        "julia -e 'using Pkg; Pkg.add(\"IJulia\"); Pkg.precompile();'"
      ],
      "execution_count": 4,
      "outputs": [
        {
          "output_type": "stream",
          "text": [
            " Installing known registries into `~/.julia`\n",
            "#=#=#                                                                         \r\r#######################                                                   32.0%\r######################################################################## 100.0%\n",
            "      Added registry `General` to `~/.julia/registries/General`\n",
            "  Resolving package versions...\n",
            "  Installed ZeroMQ_jll ────── v4.3.2+4\n",
            "  Installed IJulia ────────── v1.21.2\n",
            "  Installed SoftGlobalScope ─ v1.1.0\n",
            "  Installed MbedTLS_jll ───── v2.16.6+1\n",
            "  Installed Conda ─────────── v1.4.1\n",
            "  Installed VersionParsing ── v1.2.0\n",
            "  Installed ZMQ ───────────── v1.2.1\n",
            "  Installed JSON ──────────── v0.21.0\n",
            "  Installed MbedTLS ───────── v1.0.2\n",
            "  Installed Parsers ───────── v1.0.10\n",
            "#=#=#                                                                         \r\r######################################################################## 100.0%\n",
            "#=#=#                                                                         \r\r###                                                                        4.5%\r######################################################################## 100.0%\n",
            "Updating `~/.julia/environments/v1.5/Project.toml`\n",
            "  [7073ff75] + IJulia v1.21.2\n",
            "Updating `~/.julia/environments/v1.5/Manifest.toml`\n",
            "  [8f4d0f93] + Conda v1.4.1\n",
            "  [7073ff75] + IJulia v1.21.2\n",
            "  [682c06a0] + JSON v0.21.0\n",
            "  [739be429] + MbedTLS v1.0.2\n",
            "  [c8ffd9c3] + MbedTLS_jll v2.16.6+1\n",
            "  [69de0a69] + Parsers v1.0.10\n",
            "  [b85f4697] + SoftGlobalScope v1.1.0\n",
            "  [81def892] + VersionParsing v1.2.0\n",
            "  [c2297ded] + ZMQ v1.2.1\n",
            "  [8f1865be] + ZeroMQ_jll v4.3.2+4\n",
            "  [2a0f44e3] + Base64\n",
            "  [ade2ca70] + Dates\n",
            "  [8ba89e20] + Distributed\n",
            "  [7b1f6079] + FileWatching\n",
            "  [b77e0a4c] + InteractiveUtils\n",
            "  [76f85450] + LibGit2\n",
            "  [8f399da3] + Libdl\n",
            "  [56ddb016] + Logging\n",
            "  [d6f4376e] + Markdown\n",
            "  [a63ad114] + Mmap\n",
            "  [44cfe95a] + Pkg\n",
            "  [de0858da] + Printf\n",
            "  [3fa0cd96] + REPL\n",
            "  [9a3f8284] + Random\n",
            "  [ea8e919c] + SHA\n",
            "  [9e88b42a] + Serialization\n",
            "  [6462fe0b] + Sockets\n",
            "  [8dfed614] + Test\n",
            "  [cf7118a7] + UUIDs\n",
            "  [4ec0a83e] + Unicode\n",
            "   Building Conda ─→ `~/.julia/packages/Conda/3rPhK/deps/build.log`\n",
            "   Building IJulia → `~/.julia/packages/IJulia/DrVMH/deps/build.log`\n",
            "Precompiling project...\n"
          ],
          "name": "stderr"
        }
      ]
    },
    {
      "cell_type": "markdown",
      "metadata": {
        "id": "g4FfCWESeVzi",
        "colab_type": "text"
      },
      "source": [
        "![image.png](data:image/png;base64,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)"
      ]
    },
    {
      "cell_type": "code",
      "metadata": {
        "id": "Fwb_jH2xdx9K",
        "colab_type": "code",
        "colab": {}
      },
      "source": [
        ""
      ],
      "execution_count": null,
      "outputs": []
    }
  ]
}