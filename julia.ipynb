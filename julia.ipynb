{
  "nbformat": 4,
  "nbformat_minor": 0,
  "metadata": {
    "colab": {
      "name": "julia.ipynb",
      "provenance": [],
      "authorship_tag": "ABX9TyNJOEGNW9DTAM0uFX8OmL2P",
      "include_colab_link": true
    },
    "kernelspec": {
      "name": "Julia",
      "language": "julia",
      "display_name": "Julia Rabbit"
    },
    "language_info": {
      "file_extension": ".jl",
      "mimetype": "application/julia",
      "name": "julia",
      "version": "1.5.0"
    },
    "accelerator": "GPU"
  },
  "cells": [
    {
      "cell_type": "markdown",
      "metadata": {
        "id": "view-in-github",
        "colab_type": "text"
      },
      "source": [
        "<a href=\"https://colab.research.google.com/github/scienceofdeduction/pub/blob/master/julia.ipynb\" target=\"_parent\"><img src=\"https://colab.research.google.com/assets/colab-badge.svg\" alt=\"Open In Colab\"/></a>"
      ]
    },
    {
      "cell_type": "code",
      "metadata": {
        "id": "A1T6ioXIct0X",
        "colab_type": "code",
        "colab": {}
      },
      "source": [
        "%%shell\n",
        "if ! command -v julia 3>&1 > /dev/null\n",
        "then\n",
        "    wget 'https://julialang-s3.julialang.org/bin/linux/x64/1.5/julia-1.5.0-linux-x86_64.tar.gz' \\\n",
        "        -O /tmp/julia.tar.gz\n",
        "    tar -x -f /tmp/julia.tar.gz -C /usr/local --strip-components 1\n",
        "    rm /tmp/julia.tar.gz\n",
        "    julia -e 'using Pkg; Pkg.add(\"IJulia\"); Pkg.precompile();'\n",
        "fi"
      ],
      "execution_count": null,
      "outputs": []
    },
    {
      "cell_type": "code",
      "metadata": {
        "id": "j9RAKNk7dkF-",
        "colab_type": "code",
        "colab": {
          "base_uri": "https://localhost:8080/",
          "height": 34
        },
        "outputId": "e3506242-5c77-4f8b-bd52-872455375c94"
      },
      "source": [
        "%%sh\n",
        "which julia"
      ],
      "execution_count": 26,
      "outputs": [
        {
          "output_type": "stream",
          "text": [
            "/usr/local/bin/julia\n"
          ],
          "name": "stdout"
        }
      ]
    },
    {
      "cell_type": "markdown",
      "metadata": {
        "id": "g4FfCWESeVzi",
        "colab_type": "text"
      },
      "source": [
        "![julia colab][1]\n",
        "\n",
        "[1]: https://user-images.githubusercontent.com/19316036/90217362-0079f380-ddb6-11ea-84d4-5059a2bea538.png"
      ]
    },
    {
      "cell_type": "code",
      "metadata": {
        "id": "eUx28SFAdsj4",
        "colab_type": "code",
        "colab": {}
      },
      "source": [
        "using Pkg"
      ],
      "execution_count": null,
      "outputs": []
    },
    {
      "cell_type": "code",
      "metadata": {
        "id": "Fwb_jH2xdx9K",
        "colab_type": "code",
        "colab": {
          "base_uri": "https://localhost:8080/",
          "height": 85
        },
        "outputId": "fbc80d4e-6b78-4832-a381-3e0aab29091e"
      },
      "source": [
        "%%sh\n",
        "julia -e 'using Pkg; Pkg.status();'"
      ],
      "execution_count": 24,
      "outputs": [
        {
          "output_type": "stream",
          "text": [
            "Status `~/.julia/environments/v1.5/Project.toml`\n",
            "  [587475ba] Flux v0.11.1\n",
            "  [7073ff75] IJulia v1.21.2\n",
            "  [bd369af6] Tables v1.0.5\n"
          ],
          "name": "stdout"
        }
      ]
    },
    {
      "cell_type": "code",
      "metadata": {
        "id": "FrC772TdgIp8",
        "colab_type": "code",
        "colab": {}
      },
      "source": [
        "%%sh \n",
        "julia -e 'using Pkg; Pkg.add(\"Flux\");'\n",
        "julia -e 'using Pkg; Pkg.add(\"CUDA\");'"
      ],
      "execution_count": null,
      "outputs": []
    },
    {
      "cell_type": "code",
      "metadata": {
        "id": "agduigyogfsY",
        "colab_type": "code",
        "colab": {}
      },
      "source": [
        "%load_ext rpy2.ipython"
      ],
      "execution_count": null,
      "outputs": []
    },
    {
      "cell_type": "code",
      "metadata": {
        "id": "QvbV21-4huHs",
        "colab_type": "code",
        "colab": {}
      },
      "source": [
        "%%R\n",
        "install.packages(\"JuliaConnectoR\")"
      ],
      "execution_count": null,
      "outputs": []
    },
    {
      "cell_type": "code",
      "metadata": {
        "id": "_W__rRm-hznL",
        "colab_type": "code",
        "colab": {}
      },
      "source": [
        "%%R\n",
        "require(JuliaConnectoR)"
      ],
      "execution_count": null,
      "outputs": []
    },
    {
      "cell_type": "code",
      "metadata": {
        "id": "g5vLmbBJiAMk",
        "colab_type": "code",
        "colab": {}
      },
      "source": [
        "%%R\n",
        "# import julia into R\n",
        "# modelling in R\n",
        "flux <- juliaImport(\"Flux\")\n",
        "m <- Flux$Chain(\n",
        "        Flux$Dense(4L, 12L, Flux$relu), \n",
        "        Flux$Dense(12L, 3L, Flux$softmax)\n",
        ")"
      ],
      "execution_count": null,
      "outputs": []
    },
    {
      "cell_type": "code",
      "metadata": {
        "id": "uLRB9BXaiQEG",
        "colab_type": "code",
        "colab": {}
      },
      "source": [
        "%%R\n",
        "# \n",
        "# wrap around julia code into function in R\n",
        "# in my view, this is cleaner\n",
        "#\n",
        "mlp <- juliaEval('\n",
        "  using CUDA, Flux\n",
        "  using Flux: @epochs, onehotbatch, onehot, onecold, logitcrossentropy, mse, throttle\n",
        "  function mlp(x, y)\n",
        "    opt = ADAM(.01) |> gpu\n",
        "    m = Chain(Dense(4, 12, relu), Dense(12, 3, softmax)) |> gpu\n",
        "    loss(x, y) = crossentropy(m(x), y) \n",
        "    # @epochs 10 train!(loss, params(m), [(x, y)], opt)\n",
        "\n",
        "  end \n",
        "')"
      ],
      "execution_count": null,
      "outputs": []
    },
    {
      "cell_type": "code",
      "metadata": {
        "id": "KrysN5HIjoso",
        "colab_type": "code",
        "colab": {
          "base_uri": "https://localhost:8080/",
          "height": 357
        },
        "outputId": "56ace8d6-b589-41a2-cc81-f95634e7c9dc"
      },
      "source": [
        "%%sh\n",
        "nvidia-smi"
      ],
      "execution_count": 25,
      "outputs": [
        {
          "output_type": "stream",
          "text": [
            "Fri Aug 14 06:04:09 2020       \n",
            "+-----------------------------------------------------------------------------+\n",
            "| NVIDIA-SMI 450.57       Driver Version: 418.67       CUDA Version: 10.1     |\n",
            "|-------------------------------+----------------------+----------------------+\n",
            "| GPU  Name        Persistence-M| Bus-Id        Disp.A | Volatile Uncorr. ECC |\n",
            "| Fan  Temp  Perf  Pwr:Usage/Cap|         Memory-Usage | GPU-Util  Compute M. |\n",
            "|                               |                      |               MIG M. |\n",
            "|===============================+======================+======================|\n",
            "|   0  Tesla K80           Off  | 00000000:00:04.0 Off |                    0 |\n",
            "| N/A   29C    P8    29W / 149W |     11MiB / 11441MiB |      0%      Default |\n",
            "|                               |                      |                 ERR! |\n",
            "+-------------------------------+----------------------+----------------------+\n",
            "                                                                               \n",
            "+-----------------------------------------------------------------------------+\n",
            "| Processes:                                                                  |\n",
            "|  GPU   GI   CI        PID   Type   Process name                  GPU Memory |\n",
            "|        ID   ID                                                   Usage      |\n",
            "|=============================================================================|\n",
            "|  No running processes found                                                 |\n",
            "+-----------------------------------------------------------------------------+\n"
          ],
          "name": "stdout"
        }
      ]
    },
    {
      "cell_type": "code",
      "metadata": {
        "id": "OshCp6vLkYMN",
        "colab_type": "code",
        "colab": {}
      },
      "source": [
        ""
      ],
      "execution_count": null,
      "outputs": []
    }
  ]
}